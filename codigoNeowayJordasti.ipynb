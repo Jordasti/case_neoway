{
 "cells": [
  {
   "cell_type": "code",
   "execution_count": 273,
   "id": "91708be1",
   "metadata": {},
   "outputs": [],
   "source": [
    "#Importando Bibliotecas\n",
    "\n",
    "import pandas as pd\n",
    "import re"
   ]
  },
  {
   "cell_type": "code",
   "execution_count": 274,
   "id": "c10c5ab8",
   "metadata": {},
   "outputs": [],
   "source": [
    "#Carregando base de dados\n",
    "\n",
    "base = pd.read_csv('Indicadores Covid (Teste Técnico DQ).csv', sep=',', encoding='utf-8')"
   ]
  },
  {
   "cell_type": "code",
   "execution_count": 275,
   "id": "c72edb8f",
   "metadata": {},
   "outputs": [],
   "source": [
    "#Conhecendo a base de dados"
   ]
  },
  {
   "cell_type": "code",
   "execution_count": 276,
   "id": "77c4d2ae",
   "metadata": {},
   "outputs": [
    {
     "data": {
      "text/html": [
       "<div>\n",
       "<style scoped>\n",
       "    .dataframe tbody tr th:only-of-type {\n",
       "        vertical-align: middle;\n",
       "    }\n",
       "\n",
       "    .dataframe tbody tr th {\n",
       "        vertical-align: top;\n",
       "    }\n",
       "\n",
       "    .dataframe thead th {\n",
       "        text-align: right;\n",
       "    }\n",
       "</style>\n",
       "<table border=\"1\" class=\"dataframe\">\n",
       "  <thead>\n",
       "    <tr style=\"text-align: right;\">\n",
       "      <th></th>\n",
       "      <th>source_id</th>\n",
       "      <th>dataNotificacao</th>\n",
       "      <th>dataInicioSintomas</th>\n",
       "      <th>sintomas</th>\n",
       "      <th>profissionalSaude</th>\n",
       "      <th>racaCor</th>\n",
       "      <th>outrosSintomas</th>\n",
       "      <th>sexo</th>\n",
       "      <th>uf</th>\n",
       "      <th>municipio</th>\n",
       "      <th>dataPrimeiraDose</th>\n",
       "      <th>dataSegundaDose</th>\n",
       "      <th>codigoLaboratorioPrimeiraDose</th>\n",
       "      <th>codigoLaboratorioSegundaDose</th>\n",
       "      <th>idade</th>\n",
       "    </tr>\n",
       "  </thead>\n",
       "  <tbody>\n",
       "    <tr>\n",
       "      <th>0</th>\n",
       "      <td>rM2yS1KeSg</td>\n",
       "      <td>2022-02-15</td>\n",
       "      <td>2022-02-09</td>\n",
       "      <td>Tosse, Febre</td>\n",
       "      <td>Não</td>\n",
       "      <td>Parda</td>\n",
       "      <td>NaN</td>\n",
       "      <td>Feminino</td>\n",
       "      <td>SP</td>\n",
       "      <td>Barretos</td>\n",
       "      <td>2020-03-23</td>\n",
       "      <td>NaN</td>\n",
       "      <td>JANSSEN</td>\n",
       "      <td>NaN</td>\n",
       "      <td>45.0</td>\n",
       "    </tr>\n",
       "    <tr>\n",
       "      <th>1</th>\n",
       "      <td>KuQV22ighx</td>\n",
       "      <td>1900-01-01</td>\n",
       "      <td>2020-07-08</td>\n",
       "      <td>Tosse, Dor de Garganta</td>\n",
       "      <td>Não</td>\n",
       "      <td>Parda</td>\n",
       "      <td>NaN</td>\n",
       "      <td>Feminino</td>\n",
       "      <td>NaN</td>\n",
       "      <td>Pilar</td>\n",
       "      <td>NaN</td>\n",
       "      <td>NaN</td>\n",
       "      <td>NaN</td>\n",
       "      <td>NaN</td>\n",
       "      <td>27.0</td>\n",
       "    </tr>\n",
       "    <tr>\n",
       "      <th>2</th>\n",
       "      <td>reZML6hwMz</td>\n",
       "      <td>2022-06-21</td>\n",
       "      <td>2022-05-27</td>\n",
       "      <td>Tosse, Febre, Dor de Garganta, Outros</td>\n",
       "      <td>Não</td>\n",
       "      <td>Branca</td>\n",
       "      <td>MIALGIA</td>\n",
       "      <td>Feminino</td>\n",
       "      <td>SP</td>\n",
       "      <td>São Paulo</td>\n",
       "      <td>2026-01-05</td>\n",
       "      <td>2020-08-26</td>\n",
       "      <td>ASTRAZENECA/FIOCRUZ</td>\n",
       "      <td>ASTRAZENECA/FIOCRUZ</td>\n",
       "      <td>32.0</td>\n",
       "    </tr>\n",
       "  </tbody>\n",
       "</table>\n",
       "</div>"
      ],
      "text/plain": [
       "    source_id dataNotificacao dataInicioSintomas  \\\n",
       "0  rM2yS1KeSg      2022-02-15         2022-02-09   \n",
       "1  KuQV22ighx      1900-01-01         2020-07-08   \n",
       "2  reZML6hwMz      2022-06-21         2022-05-27   \n",
       "\n",
       "                                sintomas profissionalSaude racaCor  \\\n",
       "0                           Tosse, Febre               Não   Parda   \n",
       "1                 Tosse, Dor de Garganta               Não   Parda   \n",
       "2  Tosse, Febre, Dor de Garganta, Outros               Não  Branca   \n",
       "\n",
       "  outrosSintomas      sexo   uf  municipio dataPrimeiraDose dataSegundaDose  \\\n",
       "0            NaN  Feminino   SP   Barretos       2020-03-23             NaN   \n",
       "1            NaN  Feminino  NaN      Pilar              NaN             NaN   \n",
       "2        MIALGIA  Feminino   SP  São Paulo       2026-01-05      2020-08-26   \n",
       "\n",
       "  codigoLaboratorioPrimeiraDose codigoLaboratorioSegundaDose  idade  \n",
       "0                       JANSSEN                          NaN   45.0  \n",
       "1                           NaN                          NaN   27.0  \n",
       "2           ASTRAZENECA/FIOCRUZ          ASTRAZENECA/FIOCRUZ   32.0  "
      ]
     },
     "execution_count": 276,
     "metadata": {},
     "output_type": "execute_result"
    }
   ],
   "source": [
    "## Visualizando primeiras linhas\n",
    "base.head(3)"
   ]
  },
  {
   "cell_type": "code",
   "execution_count": 277,
   "id": "3f953c43",
   "metadata": {},
   "outputs": [
    {
     "data": {
      "text/html": [
       "<div>\n",
       "<style scoped>\n",
       "    .dataframe tbody tr th:only-of-type {\n",
       "        vertical-align: middle;\n",
       "    }\n",
       "\n",
       "    .dataframe tbody tr th {\n",
       "        vertical-align: top;\n",
       "    }\n",
       "\n",
       "    .dataframe thead th {\n",
       "        text-align: right;\n",
       "    }\n",
       "</style>\n",
       "<table border=\"1\" class=\"dataframe\">\n",
       "  <thead>\n",
       "    <tr style=\"text-align: right;\">\n",
       "      <th></th>\n",
       "      <th>source_id</th>\n",
       "      <th>dataNotificacao</th>\n",
       "      <th>dataInicioSintomas</th>\n",
       "      <th>sintomas</th>\n",
       "      <th>profissionalSaude</th>\n",
       "      <th>racaCor</th>\n",
       "      <th>outrosSintomas</th>\n",
       "      <th>sexo</th>\n",
       "      <th>uf</th>\n",
       "      <th>municipio</th>\n",
       "      <th>dataPrimeiraDose</th>\n",
       "      <th>dataSegundaDose</th>\n",
       "      <th>codigoLaboratorioPrimeiraDose</th>\n",
       "      <th>codigoLaboratorioSegundaDose</th>\n",
       "      <th>idade</th>\n",
       "    </tr>\n",
       "  </thead>\n",
       "  <tbody>\n",
       "    <tr>\n",
       "      <th>128</th>\n",
       "      <td>0QQpeqfAUR</td>\n",
       "      <td>2021-10-13</td>\n",
       "      <td>2021-10-10</td>\n",
       "      <td>Dor de Cabeça, Tosse</td>\n",
       "      <td>Não</td>\n",
       "      <td>Ignorado</td>\n",
       "      <td>NaN</td>\n",
       "      <td>Feminino</td>\n",
       "      <td>SP</td>\n",
       "      <td>Barueri</td>\n",
       "      <td>2021-01-19</td>\n",
       "      <td>2021-10-05</td>\n",
       "      <td>Sinovac</td>\n",
       "      <td>PFIZER/BIONTECH</td>\n",
       "      <td>28.0</td>\n",
       "    </tr>\n",
       "    <tr>\n",
       "      <th>5414</th>\n",
       "      <td>VQsCxqHWBw</td>\n",
       "      <td>2022-02-01</td>\n",
       "      <td>2022-01-29</td>\n",
       "      <td>Dor de Garganta, Outros</td>\n",
       "      <td>Não</td>\n",
       "      <td>Branca</td>\n",
       "      <td>dor no peito</td>\n",
       "      <td>Feminino</td>\n",
       "      <td>SP</td>\n",
       "      <td>São Paulo</td>\n",
       "      <td>2021-01-21</td>\n",
       "      <td>NaN</td>\n",
       "      <td>SINOVAC/BUTANTAN</td>\n",
       "      <td>NaN</td>\n",
       "      <td>97.0</td>\n",
       "    </tr>\n",
       "    <tr>\n",
       "      <th>2123</th>\n",
       "      <td>1IIpyUr1pH</td>\n",
       "      <td>2020-05-04</td>\n",
       "      <td>2020-05-01</td>\n",
       "      <td>Febre, Outros</td>\n",
       "      <td>Não</td>\n",
       "      <td>NaN</td>\n",
       "      <td>DIARREIA/ CORIZA/ DOR NO CORPO/ VOMITO</td>\n",
       "      <td>Feminino</td>\n",
       "      <td>NaN</td>\n",
       "      <td>Guararema</td>\n",
       "      <td>NaN</td>\n",
       "      <td>NaN</td>\n",
       "      <td>NaN</td>\n",
       "      <td>NaN</td>\n",
       "      <td>24.0</td>\n",
       "    </tr>\n",
       "  </tbody>\n",
       "</table>\n",
       "</div>"
      ],
      "text/plain": [
       "       source_id dataNotificacao dataInicioSintomas                 sintomas  \\\n",
       "128   0QQpeqfAUR      2021-10-13         2021-10-10     Dor de Cabeça, Tosse   \n",
       "5414  VQsCxqHWBw      2022-02-01         2022-01-29  Dor de Garganta, Outros   \n",
       "2123  1IIpyUr1pH      2020-05-04         2020-05-01            Febre, Outros   \n",
       "\n",
       "     profissionalSaude   racaCor                          outrosSintomas  \\\n",
       "128                Não  Ignorado                                     NaN   \n",
       "5414               Não    Branca                            dor no peito   \n",
       "2123               Não       NaN  DIARREIA/ CORIZA/ DOR NO CORPO/ VOMITO   \n",
       "\n",
       "          sexo   uf  municipio dataPrimeiraDose dataSegundaDose  \\\n",
       "128   Feminino   SP    Barueri       2021-01-19      2021-10-05   \n",
       "5414  Feminino   SP  São Paulo       2021-01-21             NaN   \n",
       "2123  Feminino  NaN  Guararema              NaN             NaN   \n",
       "\n",
       "     codigoLaboratorioPrimeiraDose codigoLaboratorioSegundaDose  idade  \n",
       "128                        Sinovac              PFIZER/BIONTECH   28.0  \n",
       "5414              SINOVAC/BUTANTAN                          NaN   97.0  \n",
       "2123                           NaN                          NaN   24.0  "
      ]
     },
     "execution_count": 277,
     "metadata": {},
     "output_type": "execute_result"
    }
   ],
   "source": [
    "## Visualizando uma amostra aleatória\n",
    "base.sample(3)"
   ]
  },
  {
   "cell_type": "code",
   "execution_count": 278,
   "id": "abe6ff51",
   "metadata": {},
   "outputs": [
    {
     "data": {
      "text/html": [
       "<div>\n",
       "<style scoped>\n",
       "    .dataframe tbody tr th:only-of-type {\n",
       "        vertical-align: middle;\n",
       "    }\n",
       "\n",
       "    .dataframe tbody tr th {\n",
       "        vertical-align: top;\n",
       "    }\n",
       "\n",
       "    .dataframe thead th {\n",
       "        text-align: right;\n",
       "    }\n",
       "</style>\n",
       "<table border=\"1\" class=\"dataframe\">\n",
       "  <thead>\n",
       "    <tr style=\"text-align: right;\">\n",
       "      <th></th>\n",
       "      <th>source_id</th>\n",
       "      <th>dataNotificacao</th>\n",
       "      <th>dataInicioSintomas</th>\n",
       "      <th>sintomas</th>\n",
       "      <th>profissionalSaude</th>\n",
       "      <th>racaCor</th>\n",
       "      <th>outrosSintomas</th>\n",
       "      <th>sexo</th>\n",
       "      <th>uf</th>\n",
       "      <th>municipio</th>\n",
       "      <th>dataPrimeiraDose</th>\n",
       "      <th>dataSegundaDose</th>\n",
       "      <th>codigoLaboratorioPrimeiraDose</th>\n",
       "      <th>codigoLaboratorioSegundaDose</th>\n",
       "      <th>idade</th>\n",
       "    </tr>\n",
       "  </thead>\n",
       "  <tbody>\n",
       "    <tr>\n",
       "      <th>10496</th>\n",
       "      <td>VB6BRlUZ56</td>\n",
       "      <td>2022-06-07</td>\n",
       "      <td>2022-05-09</td>\n",
       "      <td>Febre</td>\n",
       "      <td>Não</td>\n",
       "      <td>Parda</td>\n",
       "      <td>NaN</td>\n",
       "      <td>Feminino</td>\n",
       "      <td>PI</td>\n",
       "      <td>Teresina</td>\n",
       "      <td>2021-01-22</td>\n",
       "      <td>2021-02-23</td>\n",
       "      <td>SINOVAC/BUTANTAN</td>\n",
       "      <td>SINOVAC/BUTANTAN</td>\n",
       "      <td>6.0</td>\n",
       "    </tr>\n",
       "    <tr>\n",
       "      <th>10497</th>\n",
       "      <td>pRKQjEtmnV</td>\n",
       "      <td>2020-08-03</td>\n",
       "      <td>2020-07-30</td>\n",
       "      <td>Febre, Dor de Garganta, Outros</td>\n",
       "      <td>Não</td>\n",
       "      <td>Branca</td>\n",
       "      <td>dor de cabeça, diarreia ,dor no corpo</td>\n",
       "      <td>Feminino</td>\n",
       "      <td>NaN</td>\n",
       "      <td>Guarani d'Oeste</td>\n",
       "      <td>NaN</td>\n",
       "      <td>NaN</td>\n",
       "      <td>NaN</td>\n",
       "      <td>NaN</td>\n",
       "      <td>35.0</td>\n",
       "    </tr>\n",
       "    <tr>\n",
       "      <th>10498</th>\n",
       "      <td>wfuOdeAZxI</td>\n",
       "      <td>2022-04-06</td>\n",
       "      <td>2022-04-03</td>\n",
       "      <td>Distúrbios Olfativos</td>\n",
       "      <td>Não</td>\n",
       "      <td>Parda</td>\n",
       "      <td>NaN</td>\n",
       "      <td>M</td>\n",
       "      <td>RN</td>\n",
       "      <td>Mossoró</td>\n",
       "      <td>2021-01-22</td>\n",
       "      <td>2021-02-17</td>\n",
       "      <td>SINOVAC/BUTANTAN</td>\n",
       "      <td>SINOVAC/BUTANTAN</td>\n",
       "      <td>24.0</td>\n",
       "    </tr>\n",
       "  </tbody>\n",
       "</table>\n",
       "</div>"
      ],
      "text/plain": [
       "        source_id dataNotificacao dataInicioSintomas  \\\n",
       "10496  VB6BRlUZ56      2022-06-07         2022-05-09   \n",
       "10497  pRKQjEtmnV      2020-08-03         2020-07-30   \n",
       "10498  wfuOdeAZxI      2022-04-06         2022-04-03   \n",
       "\n",
       "                             sintomas profissionalSaude racaCor  \\\n",
       "10496                           Febre               Não   Parda   \n",
       "10497  Febre, Dor de Garganta, Outros               Não  Branca   \n",
       "10498            Distúrbios Olfativos               Não   Parda   \n",
       "\n",
       "                              outrosSintomas      sexo   uf        municipio  \\\n",
       "10496                                    NaN  Feminino   PI         Teresina   \n",
       "10497  dor de cabeça, diarreia ,dor no corpo  Feminino  NaN  Guarani d'Oeste   \n",
       "10498                                    NaN        M    RN          Mossoró   \n",
       "\n",
       "      dataPrimeiraDose dataSegundaDose codigoLaboratorioPrimeiraDose  \\\n",
       "10496       2021-01-22      2021-02-23              SINOVAC/BUTANTAN   \n",
       "10497              NaN             NaN                           NaN   \n",
       "10498       2021-01-22      2021-02-17              SINOVAC/BUTANTAN   \n",
       "\n",
       "      codigoLaboratorioSegundaDose  idade  \n",
       "10496             SINOVAC/BUTANTAN    6.0  \n",
       "10497                          NaN   35.0  \n",
       "10498             SINOVAC/BUTANTAN   24.0  "
      ]
     },
     "execution_count": 278,
     "metadata": {},
     "output_type": "execute_result"
    }
   ],
   "source": [
    "## Visualizando ultimas linhas\n",
    "base.tail(3)"
   ]
  },
  {
   "cell_type": "code",
   "execution_count": 279,
   "id": "d9789bfd",
   "metadata": {},
   "outputs": [
    {
     "data": {
      "text/plain": [
       "(10499, 15)"
      ]
     },
     "execution_count": 279,
     "metadata": {},
     "output_type": "execute_result"
    }
   ],
   "source": [
    "## Tamanho da base\n",
    "base.shape"
   ]
  },
  {
   "cell_type": "code",
   "execution_count": 280,
   "id": "30189348",
   "metadata": {},
   "outputs": [
    {
     "data": {
      "text/plain": [
       "Index(['source_id', 'dataNotificacao', 'dataInicioSintomas', 'sintomas',\n",
       "       'profissionalSaude', 'racaCor', 'outrosSintomas', 'sexo', 'uf',\n",
       "       'municipio', 'dataPrimeiraDose', 'dataSegundaDose',\n",
       "       'codigoLaboratorioPrimeiraDose', 'codigoLaboratorioSegundaDose',\n",
       "       'idade'],\n",
       "      dtype='object')"
      ]
     },
     "execution_count": 280,
     "metadata": {},
     "output_type": "execute_result"
    }
   ],
   "source": [
    "## Nome das colunas\n",
    "base.columns"
   ]
  },
  {
   "cell_type": "code",
   "execution_count": 281,
   "id": "47a13bc0",
   "metadata": {},
   "outputs": [
    {
     "name": "stdout",
     "output_type": "stream",
     "text": [
      "<class 'pandas.core.frame.DataFrame'>\n",
      "RangeIndex: 10499 entries, 0 to 10498\n",
      "Data columns (total 15 columns):\n",
      " #   Column                         Non-Null Count  Dtype  \n",
      "---  ------                         --------------  -----  \n",
      " 0   source_id                      10499 non-null  object \n",
      " 1   dataNotificacao                10490 non-null  object \n",
      " 2   dataInicioSintomas             9742 non-null   object \n",
      " 3   sintomas                       10467 non-null  object \n",
      " 4   profissionalSaude              10458 non-null  object \n",
      " 5   racaCor                        9868 non-null   object \n",
      " 6   outrosSintomas                 4218 non-null   object \n",
      " 7   sexo                           10457 non-null  object \n",
      " 8   uf                             5415 non-null   object \n",
      " 9   municipio                      10499 non-null  object \n",
      " 10  dataPrimeiraDose               5250 non-null   object \n",
      " 11  dataSegundaDose                3515 non-null   object \n",
      " 12  codigoLaboratorioPrimeiraDose  5255 non-null   object \n",
      " 13  codigoLaboratorioSegundaDose   4378 non-null   object \n",
      " 14  idade                          10495 non-null  float64\n",
      "dtypes: float64(1), object(14)\n",
      "memory usage: 1.2+ MB\n"
     ]
    }
   ],
   "source": [
    "## Informações gerais\n",
    "base.info()"
   ]
  },
  {
   "cell_type": "code",
   "execution_count": 282,
   "id": "35f01661",
   "metadata": {},
   "outputs": [
    {
     "data": {
      "text/plain": [
       "source_id                           0\n",
       "dataNotificacao                     9\n",
       "dataInicioSintomas                757\n",
       "sintomas                           32\n",
       "profissionalSaude                  41\n",
       "racaCor                           631\n",
       "outrosSintomas                   6281\n",
       "sexo                               42\n",
       "uf                               5084\n",
       "municipio                           0\n",
       "dataPrimeiraDose                 5249\n",
       "dataSegundaDose                  6984\n",
       "codigoLaboratorioPrimeiraDose    5244\n",
       "codigoLaboratorioSegundaDose     6121\n",
       "idade                               4\n",
       "dtype: int64"
      ]
     },
     "execution_count": 282,
     "metadata": {},
     "output_type": "execute_result"
    }
   ],
   "source": [
    "## Valores nulos\n",
    "base.isnull().sum()"
   ]
  },
  {
   "cell_type": "code",
   "execution_count": 283,
   "id": "cef3a9ae",
   "metadata": {},
   "outputs": [],
   "source": [
    "#Criando funções de verificação de inconsistencias"
   ]
  },
  {
   "cell_type": "code",
   "execution_count": 284,
   "id": "43a99be4",
   "metadata": {},
   "outputs": [],
   "source": [
    "## Verifica preenchimento\n",
    "\n",
    "def verificar_preenchimento(row):\n",
    "    return 'consistente' if row.notnull().all() and (row != '').all() else 'inconsistente'"
   ]
  },
  {
   "cell_type": "code",
   "execution_count": 285,
   "id": "c134b79b",
   "metadata": {},
   "outputs": [],
   "source": [
    "def verificar_padronizacao(row):\n",
    "    padronizacao = {\n",
    "       'sintomas': '^[A-Z]+$',\n",
    "       'profissionalSaude': '^(SIM|NAO)$',\n",
    "       'racaCor': '^(AMARELA|BRANCA|IGNORADO|INDIGENA|PARDA|PRETA)$',\n",
    "       'outrosSintomas': '^[A-Z]+$',\n",
    "       'sexo': '^(MASCULINO|FEMININO|INDEFINIDO)$',\n",
    "       'uf': '^[A-Z]{2}$',\n",
    "       'municipio': '^[A-Z]+$',\n",
    "       'codigoLaboratorioPrimeiraDose': '^(ASTRAZENECA/FIOCRUZ|JANSSEN|SINOVAC/BUTANTAN|PFIZER)$',\n",
    "       'codigoLaboratorioSegundaDose': '^(ASTRAZENECA/FIOCRUZ|JANSSEN|SINOVAC/BUTANTAN|PFIZER)$',\n",
    "       'dataNotificacao': '^\\d{4}-\\d{2}-\\d{2}$',\n",
    "       'dataInicioSintomas': '^\\d{4}-\\d{2}-\\d{2}$',\n",
    "       'dataPrimeiraDose': '^\\d{4}-\\d{2}-\\d{2}$',\n",
    "       'dataSegundaDose': '^\\d{4}-\\d{2}-\\d{2}$',\n",
    "       'Idade': '^\\d+$'\n",
    "    }\n",
    "    for col, regex in padronizacao.items():\n",
    "        if pd.notnull(row[col]) and not re.fullmatch(regex, row[col]):\n",
    "            return 'inconsistente'\n",
    "    return 'consistente'"
   ]
  },
  {
   "cell_type": "code",
   "execution_count": 286,
   "id": "5ef4e4f5",
   "metadata": {},
   "outputs": [],
   "source": [
    "## Verifica Consistencia\n",
    "\n",
    "def verificar_consistencia(row):\n",
    "    if pd.notnull(row['dataNotificacao']) and not (pd.to_datetime('2020-01-04') <= pd.to_datetime(row['dataNotificacao']) <= pd.to_datetime('2022-07-22')):\n",
    "        return 'inconsistente'\n",
    "    if pd.notnull(row['dataInicioSintomas']) and not (pd.to_datetime('2020-01-04') <= pd.to_datetime(row['dataInicioSintomas']) <= pd.to_datetime('2022-07-22')):\n",
    "        return 'inconsistente'\n",
    "    if pd.notnull(row['dataPrimeiraDose']) and not (pd.to_datetime('2020-03-23') <= pd.to_datetime(row['dataPrimeiraDose']) <= pd.to_datetime('2022-07-22')):\n",
    "        return 'inconsistente'\n",
    "    if pd.notnull(row['dataSegundaDose']) and not (pd.to_datetime('2020-08-19') <= pd.to_datetime(row['dataSegundaDose']) <= pd.to_datetime('2022-07-22')):\n",
    "        return 'inconsistente'\n",
    "    if (pd.notnull(row['dataPrimeiraDose']) or pd.notnull(row['dataSegundaDose'])) and pd.to_datetime(row['dataPrimeiraDose']) > pd.to_datetime(row['dataSegundaDose']):\n",
    "        return 'inconsistente'\n",
    "    if pd.notnull(row['idade']) and (row['idade'] < 0 or row['idade'] >= 122):\n",
    "        return 'inconsistente'\n",
    "    return 'consistente'"
   ]
  },
  {
   "cell_type": "code",
   "execution_count": 287,
   "id": "886043ce",
   "metadata": {},
   "outputs": [],
   "source": [
    "## Verifica duplicidade\n",
    "\n",
    "def verifica_duplicidade(df, valor):\n",
    "    return 'inconsistente' if df['source_id'].duplicated().sum() == 0 else 'consistente'"
   ]
  },
  {
   "cell_type": "code",
   "execution_count": 288,
   "id": "802c87bf",
   "metadata": {},
   "outputs": [],
   "source": [
    "## Verifica abrangencia\n",
    "\n",
    "def verifica_abrangencia(valor, ufs_validas):\n",
    "    return 'consistente' if valor in ufs_validas else 'inconsistente'"
   ]
  },
  {
   "cell_type": "code",
   "execution_count": 289,
   "id": "3f711472",
   "metadata": {},
   "outputs": [],
   "source": [
    "# Criando catalogo de UFs validas conforme padrão IBGE \n",
    "\n",
    "ufs_validas = ['AC', 'AL', 'AM', 'AP', 'BA', 'CE', 'DF', 'ES', 'GO', 'MA', 'MG', 'MS', 'MT', 'PA', 'PB', 'PE', 'PI', 'PR', 'RJ', 'RN', 'RO', 'RR', 'RS', 'SC', 'SE', 'SP', 'TO']"
   ]
  },
  {
   "cell_type": "code",
   "execution_count": 290,
   "id": "0b622a09",
   "metadata": {},
   "outputs": [],
   "source": [
    "# Aplicando funções de verificação de inconsistencias\n",
    "\n",
    "base['preenchimento'] = base.apply(lambda row: verificar_preenchimento(row), axis=1)\n",
    "base['padronizacao'] = base.apply(lambda row: verificar_padronizacao(row), axis=1)\n",
    "base['consistencia'] = base.apply(lambda row: verificar_consistencia(row), axis=1)\n",
    "base['unicidade'] = verifica_duplicidade(base, base['source_id'])\n",
    "base['abrangencia'] = base.apply(lambda row: verifica_abrangencia(row['uf'], ufs_validas), axis=1)"
   ]
  },
  {
   "cell_type": "code",
   "execution_count": 291,
   "id": "f3b5e0f8",
   "metadata": {},
   "outputs": [],
   "source": [
    "# Verificando a base de dados modelada"
   ]
  },
  {
   "cell_type": "code",
   "execution_count": 292,
   "id": "edd87207",
   "metadata": {},
   "outputs": [
    {
     "data": {
      "text/plain": [
       "(10499, 20)"
      ]
     },
     "execution_count": 292,
     "metadata": {},
     "output_type": "execute_result"
    }
   ],
   "source": [
    "base.shape"
   ]
  },
  {
   "cell_type": "code",
   "execution_count": 293,
   "id": "ce835f10",
   "metadata": {},
   "outputs": [
    {
     "data": {
      "text/plain": [
       "Index(['source_id', 'dataNotificacao', 'dataInicioSintomas', 'sintomas',\n",
       "       'profissionalSaude', 'racaCor', 'outrosSintomas', 'sexo', 'uf',\n",
       "       'municipio', 'dataPrimeiraDose', 'dataSegundaDose',\n",
       "       'codigoLaboratorioPrimeiraDose', 'codigoLaboratorioSegundaDose',\n",
       "       'idade', 'preenchimento', 'padronizacao', 'consistencia', 'unicidade',\n",
       "       'abrangencia'],\n",
       "      dtype='object')"
      ]
     },
     "execution_count": 293,
     "metadata": {},
     "output_type": "execute_result"
    }
   ],
   "source": [
    "base.columns"
   ]
  },
  {
   "cell_type": "code",
   "execution_count": 294,
   "id": "06c34e26",
   "metadata": {},
   "outputs": [
    {
     "data": {
      "text/plain": [
       "source_id                         object\n",
       "dataNotificacao                   object\n",
       "dataInicioSintomas                object\n",
       "sintomas                          object\n",
       "profissionalSaude                 object\n",
       "racaCor                           object\n",
       "outrosSintomas                    object\n",
       "sexo                              object\n",
       "uf                                object\n",
       "municipio                         object\n",
       "dataPrimeiraDose                  object\n",
       "dataSegundaDose                   object\n",
       "codigoLaboratorioPrimeiraDose     object\n",
       "codigoLaboratorioSegundaDose      object\n",
       "idade                            float64\n",
       "preenchimento                     object\n",
       "padronizacao                      object\n",
       "consistencia                      object\n",
       "unicidade                         object\n",
       "abrangencia                       object\n",
       "dtype: object"
      ]
     },
     "execution_count": 294,
     "metadata": {},
     "output_type": "execute_result"
    }
   ],
   "source": [
    "base.dtypes"
   ]
  },
  {
   "cell_type": "code",
   "execution_count": 295,
   "id": "4b15eb40",
   "metadata": {},
   "outputs": [],
   "source": [
    "# Salvando base modelada\n",
    "base.to_csv('baseModelada.csv', sep=';',encoding='latin', index=False)"
   ]
  },
  {
   "cell_type": "code",
   "execution_count": null,
   "id": "4589ca85",
   "metadata": {},
   "outputs": [],
   "source": []
  }
 ],
 "metadata": {
  "kernelspec": {
   "display_name": "Python 3 (ipykernel)",
   "language": "python",
   "name": "python3"
  },
  "language_info": {
   "codemirror_mode": {
    "name": "ipython",
    "version": 3
   },
   "file_extension": ".py",
   "mimetype": "text/x-python",
   "name": "python",
   "nbconvert_exporter": "python",
   "pygments_lexer": "ipython3",
   "version": "3.10.9"
  }
 },
 "nbformat": 4,
 "nbformat_minor": 5
}
