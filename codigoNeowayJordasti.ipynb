{
 "cells": [
  {
   "cell_type": "markdown",
   "id": "876cead9",
   "metadata": {},
   "source": [
    "# Inputs de Dados"
   ]
  },
  {
   "cell_type": "code",
   "execution_count": null,
   "id": "91708be1",
   "metadata": {},
   "outputs": [],
   "source": [
    "##Importando Bibliotecas\n",
    "\n",
    "import pandas as pd\n",
    "import re"
   ]
  },
  {
   "cell_type": "code",
   "execution_count": null,
   "id": "c10c5ab8",
   "metadata": {},
   "outputs": [],
   "source": [
    "##Importando base de dados\n",
    "\n",
    "base = pd.read_csv('Indicadores Covid (Teste Técnico DQ).csv', sep=',', encoding='utf-8')"
   ]
  },
  {
   "cell_type": "code",
   "execution_count": null,
   "id": "ea8d63d5",
   "metadata": {},
   "outputs": [],
   "source": [
    "##Criando catalogo de UFs validas conforme padrão IBGE \n",
    "\n",
    "ufs_validas = ['AC', 'AL', 'AM', 'AP', 'BA', 'CE', 'DF', 'ES', 'GO', 'MA', 'MG', 'MS', 'MT', 'PA', 'PB', 'PE', 'PI', 'PR', 'RJ', 'RN', 'RO', 'RR', 'RS', 'SC', 'SE', 'SP', 'TO']"
   ]
  },
  {
   "cell_type": "markdown",
   "id": "4ccd2217",
   "metadata": {},
   "source": [
    "# Conhecendo a base de dados"
   ]
  },
  {
   "cell_type": "code",
   "execution_count": null,
   "id": "77c4d2ae",
   "metadata": {},
   "outputs": [],
   "source": [
    "## Visualizando primeiras linhas\n",
    "base.head(3)"
   ]
  },
  {
   "cell_type": "code",
   "execution_count": null,
   "id": "3f953c43",
   "metadata": {},
   "outputs": [],
   "source": [
    "## Visualizando uma amostra aleatória\n",
    "base.sample(3)"
   ]
  },
  {
   "cell_type": "code",
   "execution_count": null,
   "id": "abe6ff51",
   "metadata": {},
   "outputs": [],
   "source": [
    "## Visualizando ultimas linhas\n",
    "base.tail(3)"
   ]
  },
  {
   "cell_type": "code",
   "execution_count": null,
   "id": "d9789bfd",
   "metadata": {},
   "outputs": [],
   "source": [
    "## Tamanho da base\n",
    "base.shape"
   ]
  },
  {
   "cell_type": "code",
   "execution_count": null,
   "id": "30189348",
   "metadata": {},
   "outputs": [],
   "source": [
    "## Nome das colunas\n",
    "base.columns"
   ]
  },
  {
   "cell_type": "code",
   "execution_count": null,
   "id": "47a13bc0",
   "metadata": {},
   "outputs": [],
   "source": [
    "## Informações gerais\n",
    "base.info()"
   ]
  },
  {
   "cell_type": "code",
   "execution_count": null,
   "id": "35f01661",
   "metadata": {},
   "outputs": [],
   "source": [
    "## Valores nulos\n",
    "base.isnull().sum()"
   ]
  },
  {
   "cell_type": "markdown",
   "id": "2cc2d684",
   "metadata": {},
   "source": [
    "# Criando funções de verificação de inconsistencias"
   ]
  },
  {
   "cell_type": "code",
   "execution_count": null,
   "id": "43a99be4",
   "metadata": {},
   "outputs": [],
   "source": [
    "## Verifica preenchimento\n",
    "\n",
    "def verificar_preenchimento(row):\n",
    "    return 'consistente' if row.notnull().all() and (row != '').all() else 'inconsistente'"
   ]
  },
  {
   "cell_type": "code",
   "execution_count": null,
   "id": "c134b79b",
   "metadata": {},
   "outputs": [],
   "source": [
    "## Verifica Padrão\n",
    "\n",
    "def verificar_padronizacao(row):\n",
    "    padronizacao = {\n",
    "       'sintomas': '^[A-Z]+$',\n",
    "       'profissionalSaude': '^(SIM|NAO)$',\n",
    "       'racaCor': '^(AMARELA|BRANCA|IGNORADO|INDIGENA|PARDA|PRETA)$',\n",
    "       'outrosSintomas': '^[A-Z]+$',\n",
    "       'sexo': '^(MASCULINO|FEMININO|INDEFINIDO)$',\n",
    "       'uf': '^[A-Z]{2}$',\n",
    "       'municipio': '^[A-Z]+$',\n",
    "       'codigoLaboratorioPrimeiraDose': '^(ASTRAZENECA/FIOCRUZ|JANSSEN|SINOVAC/BUTANTAN|PFIZER)$',\n",
    "       'codigoLaboratorioSegundaDose': '^(ASTRAZENECA/FIOCRUZ|JANSSEN|SINOVAC/BUTANTAN|PFIZER)$',\n",
    "       'dataNotificacao': '^\\d{4}-\\d{2}-\\d{2}$',\n",
    "       'dataInicioSintomas': '^\\d{4}-\\d{2}-\\d{2}$',\n",
    "       'dataPrimeiraDose': '^\\d{4}-\\d{2}-\\d{2}$',\n",
    "       'dataSegundaDose': '^\\d{4}-\\d{2}-\\d{2}$',\n",
    "       'Idade': '^\\d+$'\n",
    "    }\n",
    "    for col, regex in padronizacao.items():\n",
    "        if pd.notnull(row[col]) and not re.fullmatch(regex, row[col]):\n",
    "            return 'inconsistente'\n",
    "    return 'consistente'"
   ]
  },
  {
   "cell_type": "code",
   "execution_count": null,
   "id": "5ef4e4f5",
   "metadata": {},
   "outputs": [],
   "source": [
    "## Verifica Consistencia\n",
    "\n",
    "def verificar_consistencia(row):\n",
    "    if pd.notnull(row['dataNotificacao']) and not (pd.to_datetime('2020-01-04') <= pd.to_datetime(row['dataNotificacao']) <= pd.to_datetime('2022-07-22')):\n",
    "        return 'inconsistente'\n",
    "    if pd.notnull(row['dataInicioSintomas']) and not (pd.to_datetime('2020-01-04') <= pd.to_datetime(row['dataInicioSintomas']) <= pd.to_datetime('2022-07-22')):\n",
    "        return 'inconsistente'\n",
    "    if pd.notnull(row['dataPrimeiraDose']) and not (pd.to_datetime('2020-03-23') <= pd.to_datetime(row['dataPrimeiraDose']) <= pd.to_datetime('2022-07-22')):\n",
    "        return 'inconsistente'\n",
    "    if pd.notnull(row['dataSegundaDose']) and not (pd.to_datetime('2020-08-19') <= pd.to_datetime(row['dataSegundaDose']) <= pd.to_datetime('2022-07-22')):\n",
    "        return 'inconsistente'\n",
    "    if (pd.notnull(row['dataPrimeiraDose']) or pd.notnull(row['dataSegundaDose'])) and pd.to_datetime(row['dataPrimeiraDose']) > pd.to_datetime(row['dataSegundaDose']):\n",
    "        return 'inconsistente'\n",
    "    if pd.notnull(row['idade']) and (row['idade'] < 0 or row['idade'] >= 122):\n",
    "        return 'inconsistente'\n",
    "    return 'consistente'"
   ]
  },
  {
   "cell_type": "code",
   "execution_count": null,
   "id": "886043ce",
   "metadata": {},
   "outputs": [],
   "source": [
    "## Verifica duplicidade\n",
    "\n",
    "def verifica_duplicidade(df, valor):\n",
    "    return 'inconsistente' if df['source_id'].duplicated().sum() == 0 else 'consistente'"
   ]
  },
  {
   "cell_type": "code",
   "execution_count": null,
   "id": "802c87bf",
   "metadata": {},
   "outputs": [],
   "source": [
    "## Verifica abrangencia\n",
    "\n",
    "def verifica_abrangencia(valor, ufs_validas):\n",
    "    return 'consistente' if valor in ufs_validas else 'inconsistente'"
   ]
  },
  {
   "cell_type": "markdown",
   "id": "9386724b",
   "metadata": {},
   "source": [
    "# Aplicando funções de verificação de inconsistencias"
   ]
  },
  {
   "cell_type": "code",
   "execution_count": null,
   "id": "0b622a09",
   "metadata": {},
   "outputs": [],
   "source": [
    "base['preenchimento'] = base.apply(lambda row: verificar_preenchimento(row), axis=1)\n",
    "base['padronizacao'] = base.apply(lambda row: verificar_padronizacao(row), axis=1)\n",
    "base['consistencia'] = base.apply(lambda row: verificar_consistencia(row), axis=1)\n",
    "base['unicidade'] = verifica_duplicidade(base, base['source_id'])\n",
    "base['abrangencia'] = base.apply(lambda row: verifica_abrangencia(row['uf'], ufs_validas), axis=1)"
   ]
  },
  {
   "cell_type": "markdown",
   "id": "18da1463",
   "metadata": {},
   "source": [
    "# Verificando a base de dados modelada"
   ]
  },
  {
   "cell_type": "code",
   "execution_count": null,
   "id": "edd87207",
   "metadata": {},
   "outputs": [],
   "source": [
    "## Tamanho da base\n",
    "base.shape"
   ]
  },
  {
   "cell_type": "code",
   "execution_count": null,
   "id": "ce835f10",
   "metadata": {},
   "outputs": [],
   "source": [
    "## Nome das colunas\n",
    "base.columns"
   ]
  },
  {
   "cell_type": "code",
   "execution_count": null,
   "id": "06c34e26",
   "metadata": {},
   "outputs": [],
   "source": [
    "## Tipo de dados\n",
    "base.dtypes"
   ]
  },
  {
   "cell_type": "markdown",
   "id": "e9e618ef",
   "metadata": {},
   "source": [
    "# Salvando base modelada"
   ]
  },
  {
   "cell_type": "code",
   "execution_count": null,
   "id": "4b15eb40",
   "metadata": {},
   "outputs": [],
   "source": [
    "base.to_csv('baseModelada.csv', sep=';',encoding='latin', index=False)"
   ]
  }
 ],
 "metadata": {
  "kernelspec": {
   "display_name": "Python 3 (ipykernel)",
   "language": "python",
   "name": "python3"
  },
  "language_info": {
   "codemirror_mode": {
    "name": "ipython",
    "version": 3
   },
   "file_extension": ".py",
   "mimetype": "text/x-python",
   "name": "python",
   "nbconvert_exporter": "python",
   "pygments_lexer": "ipython3",
   "version": "3.10.9"
  }
 },
 "nbformat": 4,
 "nbformat_minor": 5
}
